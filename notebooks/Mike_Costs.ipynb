{
 "cells": [
  {
   "cell_type": "code",
   "execution_count": 1,
   "metadata": {},
   "outputs": [],
   "source": [
    "from matplotlib import pyplot as plt\n",
    "import numpy as np\n",
    "import pandas as pd\n",
    "import scipy.stats as stats"
   ]
  },
  {
   "cell_type": "code",
   "execution_count": 2,
   "metadata": {},
   "outputs": [
    {
     "data": {
      "text/html": [
       "<div>\n",
       "<style scoped>\n",
       "    .dataframe tbody tr th:only-of-type {\n",
       "        vertical-align: middle;\n",
       "    }\n",
       "\n",
       "    .dataframe tbody tr th {\n",
       "        vertical-align: top;\n",
       "    }\n",
       "\n",
       "    .dataframe thead th {\n",
       "        text-align: right;\n",
       "    }\n",
       "</style>\n",
       "<table border=\"1\" class=\"dataframe\">\n",
       "  <thead>\n",
       "    <tr style=\"text-align: right;\">\n",
       "      <th></th>\n",
       "      <th>Unnamed: 0</th>\n",
       "      <th>tile_count</th>\n",
       "      <th>solar_system_count</th>\n",
       "      <th>total_panel_area</th>\n",
       "      <th>fips</th>\n",
       "      <th>average_household_income</th>\n",
       "      <th>county</th>\n",
       "      <th>education_bachelor</th>\n",
       "      <th>education_college</th>\n",
       "      <th>education_doctoral</th>\n",
       "      <th>...</th>\n",
       "      <th>incentive_count_nonresidential</th>\n",
       "      <th>incentive_residential_state_level</th>\n",
       "      <th>incentive_nonresidential_state_level</th>\n",
       "      <th>net_metering</th>\n",
       "      <th>feedin_tariff</th>\n",
       "      <th>cooperate_tax</th>\n",
       "      <th>property_tax</th>\n",
       "      <th>sales_tax</th>\n",
       "      <th>rebate</th>\n",
       "      <th>avg_electricity_retail_rate</th>\n",
       "    </tr>\n",
       "  </thead>\n",
       "  <tbody>\n",
       "    <tr>\n",
       "      <th>0</th>\n",
       "      <td>0</td>\n",
       "      <td>0</td>\n",
       "      <td>0</td>\n",
       "      <td>0.000000</td>\n",
       "      <td>27145011200</td>\n",
       "      <td>70352.78987</td>\n",
       "      <td>Stearns County</td>\n",
       "      <td>569</td>\n",
       "      <td>1690</td>\n",
       "      <td>13</td>\n",
       "      <td>...</td>\n",
       "      <td>39</td>\n",
       "      <td>11</td>\n",
       "      <td>13</td>\n",
       "      <td>34</td>\n",
       "      <td>0</td>\n",
       "      <td>0</td>\n",
       "      <td>25</td>\n",
       "      <td>12</td>\n",
       "      <td>0</td>\n",
       "      <td>9.46</td>\n",
       "    </tr>\n",
       "    <tr>\n",
       "      <th>1</th>\n",
       "      <td>2</td>\n",
       "      <td>3</td>\n",
       "      <td>3</td>\n",
       "      <td>64.505776</td>\n",
       "      <td>27145011302</td>\n",
       "      <td>71496.88658</td>\n",
       "      <td>Stearns County</td>\n",
       "      <td>854</td>\n",
       "      <td>1459</td>\n",
       "      <td>31</td>\n",
       "      <td>...</td>\n",
       "      <td>39</td>\n",
       "      <td>11</td>\n",
       "      <td>13</td>\n",
       "      <td>34</td>\n",
       "      <td>0</td>\n",
       "      <td>0</td>\n",
       "      <td>25</td>\n",
       "      <td>12</td>\n",
       "      <td>0</td>\n",
       "      <td>9.46</td>\n",
       "    </tr>\n",
       "    <tr>\n",
       "      <th>2</th>\n",
       "      <td>3</td>\n",
       "      <td>0</td>\n",
       "      <td>0</td>\n",
       "      <td>0.000000</td>\n",
       "      <td>27145011304</td>\n",
       "      <td>86840.15275</td>\n",
       "      <td>Stearns County</td>\n",
       "      <td>640</td>\n",
       "      <td>1116</td>\n",
       "      <td>68</td>\n",
       "      <td>...</td>\n",
       "      <td>39</td>\n",
       "      <td>11</td>\n",
       "      <td>13</td>\n",
       "      <td>34</td>\n",
       "      <td>0</td>\n",
       "      <td>0</td>\n",
       "      <td>25</td>\n",
       "      <td>12</td>\n",
       "      <td>0</td>\n",
       "      <td>9.46</td>\n",
       "    </tr>\n",
       "    <tr>\n",
       "      <th>3</th>\n",
       "      <td>4</td>\n",
       "      <td>5</td>\n",
       "      <td>5</td>\n",
       "      <td>164.583303</td>\n",
       "      <td>27145011400</td>\n",
       "      <td>89135.31560</td>\n",
       "      <td>Stearns County</td>\n",
       "      <td>654</td>\n",
       "      <td>1314</td>\n",
       "      <td>15</td>\n",
       "      <td>...</td>\n",
       "      <td>39</td>\n",
       "      <td>11</td>\n",
       "      <td>13</td>\n",
       "      <td>34</td>\n",
       "      <td>0</td>\n",
       "      <td>0</td>\n",
       "      <td>25</td>\n",
       "      <td>12</td>\n",
       "      <td>0</td>\n",
       "      <td>9.46</td>\n",
       "    </tr>\n",
       "    <tr>\n",
       "      <th>4</th>\n",
       "      <td>5</td>\n",
       "      <td>0</td>\n",
       "      <td>0</td>\n",
       "      <td>0.000000</td>\n",
       "      <td>27145011500</td>\n",
       "      <td>62225.90361</td>\n",
       "      <td>Stearns County</td>\n",
       "      <td>522</td>\n",
       "      <td>1395</td>\n",
       "      <td>24</td>\n",
       "      <td>...</td>\n",
       "      <td>39</td>\n",
       "      <td>11</td>\n",
       "      <td>13</td>\n",
       "      <td>34</td>\n",
       "      <td>0</td>\n",
       "      <td>0</td>\n",
       "      <td>25</td>\n",
       "      <td>12</td>\n",
       "      <td>0</td>\n",
       "      <td>9.46</td>\n",
       "    </tr>\n",
       "  </tbody>\n",
       "</table>\n",
       "<p>5 rows × 167 columns</p>\n",
       "</div>"
      ],
      "text/plain": [
       "   Unnamed: 0  tile_count  solar_system_count  total_panel_area         fips  \\\n",
       "0           0           0                   0          0.000000  27145011200   \n",
       "1           2           3                   3         64.505776  27145011302   \n",
       "2           3           0                   0          0.000000  27145011304   \n",
       "3           4           5                   5        164.583303  27145011400   \n",
       "4           5           0                   0          0.000000  27145011500   \n",
       "\n",
       "   average_household_income          county  education_bachelor  \\\n",
       "0               70352.78987  Stearns County                 569   \n",
       "1               71496.88658  Stearns County                 854   \n",
       "2               86840.15275  Stearns County                 640   \n",
       "3               89135.31560  Stearns County                 654   \n",
       "4               62225.90361  Stearns County                 522   \n",
       "\n",
       "   education_college  education_doctoral             ...               \\\n",
       "0               1690                  13             ...                \n",
       "1               1459                  31             ...                \n",
       "2               1116                  68             ...                \n",
       "3               1314                  15             ...                \n",
       "4               1395                  24             ...                \n",
       "\n",
       "   incentive_count_nonresidential  incentive_residential_state_level  \\\n",
       "0                              39                                 11   \n",
       "1                              39                                 11   \n",
       "2                              39                                 11   \n",
       "3                              39                                 11   \n",
       "4                              39                                 11   \n",
       "\n",
       "   incentive_nonresidential_state_level  net_metering  feedin_tariff  \\\n",
       "0                                    13            34              0   \n",
       "1                                    13            34              0   \n",
       "2                                    13            34              0   \n",
       "3                                    13            34              0   \n",
       "4                                    13            34              0   \n",
       "\n",
       "   cooperate_tax  property_tax  sales_tax  rebate  avg_electricity_retail_rate  \n",
       "0              0            25         12       0                         9.46  \n",
       "1              0            25         12       0                         9.46  \n",
       "2              0            25         12       0                         9.46  \n",
       "3              0            25         12       0                         9.46  \n",
       "4              0            25         12       0                         9.46  \n",
       "\n",
       "[5 rows x 167 columns]"
      ]
     },
     "execution_count": 2,
     "metadata": {},
     "output_type": "execute_result"
    }
   ],
   "source": [
    "csv_path_clean = \"../data/Cleaned_Data.csv\"\n",
    "solar_clean_df = pd.read_csv(csv_path_clean, delimiter=\",\" , encoding=\"ANSI\")\n",
    "solar_clean_df.head()"
   ]
  },
  {
   "cell_type": "code",
   "execution_count": 4,
   "metadata": {},
   "outputs": [
    {
     "data": {
      "text/plain": [
       "(63847, 167)"
      ]
     },
     "execution_count": 4,
     "metadata": {},
     "output_type": "execute_result"
    }
   ],
   "source": [
    "solar_clean_df.shape"
   ]
  },
  {
   "cell_type": "code",
   "execution_count": 18,
   "metadata": {},
   "outputs": [],
   "source": [
    "with_solar_df = solar_clean_df[solar_clean_df[\"tile_count\"] > 0]\n",
    "without_solar_df = solar_clean_df[solar_clean_df[\"tile_count\"] == 0]\n"
   ]
  },
  {
   "cell_type": "code",
   "execution_count": 25,
   "metadata": {},
   "outputs": [
    {
     "data": {
      "text/plain": [
       "10.313470194865195"
      ]
     },
     "execution_count": 25,
     "metadata": {},
     "output_type": "execute_result"
    }
   ],
   "source": [
    "without_solar_mean_price=without_solar_df[\"electricity_price_overall\"].mean()\n",
    "without_solar_mean_price"
   ]
  },
  {
   "cell_type": "code",
   "execution_count": 26,
   "metadata": {},
   "outputs": [
    {
     "data": {
      "text/plain": [
       "11.261076692032205"
      ]
     },
     "execution_count": 26,
     "metadata": {},
     "output_type": "execute_result"
    }
   ],
   "source": [
    "with_solar_mean_price=with_solar_df[\"electricity_price_overall\"].mean()\n",
    "with_solar_mean_price"
   ]
  },
  {
   "cell_type": "code",
   "execution_count": 34,
   "metadata": {},
   "outputs": [
    {
     "data": {
      "text/plain": [
       "Ttest_indResult(statistic=-42.11472811651776, pvalue=0.0)"
      ]
     },
     "execution_count": 34,
     "metadata": {},
     "output_type": "execute_result"
    }
   ],
   "source": [
    "stats.ttest_ind(without_solar_df[\"electricity_price_overall\"], with_solar_df[\"electricity_price_overall\"], equal_var=False)"
   ]
  },
  {
   "cell_type": "code",
   "execution_count": 30,
   "metadata": {},
   "outputs": [
    {
     "data": {
      "text/plain": [
       "<matplotlib.axes._subplots.AxesSubplot at 0x1a08632f860>"
      ]
     },
     "execution_count": 30,
     "metadata": {},
     "output_type": "execute_result"
    },
    {
     "data": {
      "image/png": "[encoded data removed]",
      "text/plain": [
       "<Figure size 432x288 with 1 Axes>"
      ]
     },
     "metadata": {
      "needs_background": "light"
     },
     "output_type": "display_data"
    }
   ],
   "source": [
    "without_solar_df[\"electricity_price_overall\"].hist()"
   ]
  },
  {
   "cell_type": "code",
   "execution_count": 32,
   "metadata": {},
   "outputs": [
    {
     "data": {
      "text/plain": [
       "<matplotlib.axes._subplots.AxesSubplot at 0x1a086442278>"
      ]
     },
     "execution_count": 32,
     "metadata": {},
     "output_type": "execute_result"
    },
    {
     "data": {
      "image/png": "[encoded data removed]",
      "text/plain": [
       "<Figure size 432x288 with 1 Axes>"
      ]
     },
     "metadata": {
      "needs_background": "light"
     },
     "output_type": "display_data"
    }
   ],
   "source": [
    "with_solar_df[\"electricity_price_overall\"].hist()"
   ]
  }
 ],
 "metadata": {
  "kernelspec": {
   "display_name": "Python 3",
   "language": "python",
   "name": "python3"
  },
  "language_info": {
   "codemirror_mode": {
    "name": "ipython",
    "version": 3
   },
   "file_extension": ".py",
   "mimetype": "text/x-python",
   "name": "python",
   "nbconvert_exporter": "python",
   "pygments_lexer": "ipython3",
   "version": "3.7.0"
  }
 },
 "nbformat": 4,
 "nbformat_minor": 2
}
